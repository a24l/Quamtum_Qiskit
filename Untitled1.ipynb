{
 "cells": [
  {
   "cell_type": "code",
   "execution_count": 1,
   "id": "b177179f-bf6c-4edc-a806-602c9a19a492",
   "metadata": {},
   "outputs": [],
   "source": [
    "%matplotlib inline\n",
    "# Importing standard Qiskit libraries\n",
    "from qiskit import QuantumCircuit, execute, Aer, IBMQ\n",
    "from qiskit.compiler import transpile, assemble\n",
    "from qiskit.tools.jupyter import *\n",
    "from qiskit.visualization import *\n",
    "from ibm_quantum_widgets import *\n",
    "\n",
    "# Loading your IBM Q account(s)\n",
    "provider = IBMQ.load_account()\n"
   ]
  },
  {
   "cell_type": "code",
   "execution_count": 9,
   "id": "f991fdaa-f654-49a4-a6f7-122e214c6742",
   "metadata": {},
   "outputs": [
    {
     "data": {
      "image/png": "[encoded data removed]",
      "text/plain": [
       "<Figure size 206.997x204.68 with 1 Axes>"
      ]
     },
     "execution_count": 9,
     "metadata": {},
     "output_type": "execute_result"
    },
    {
     "data": {
      "image/png": "[encoded data removed]",
      "text/plain": [
       "<Figure size 206.997x204.68 with 1 Axes>"
      ]
     },
     "metadata": {},
     "output_type": "display_data"
    }
   ],
   "source": [
    "qc = QuantumCircuit(3)\n",
    "qc.h(0)\n",
    "qc.x(2)\n",
    "qc.h(2)\n",
    "qc.draw()\n"
   ]
  },
  {
   "cell_type": "code",
   "execution_count": 10,
   "id": "1527fb7c-6135-43f8-af60-bbc1aa3bce32",
   "metadata": {},
   "outputs": [],
   "source": [
    "svsim = Aer.get_backend('aer_simulator')\n",
    "qc.save_statevector()\n",
    "qobj = assemble(qc)\n",
    "final_state = svsim.run(qobj).result().get_statevector()"
   ]
  },
  {
   "cell_type": "code",
   "execution_count": 11,
   "id": "7b7146d6-4211-4b15-9ee4-3f86070b39f9",
   "metadata": {},
   "outputs": [
    {
     "data": {
      "text/latex": [
       "$$\n",
       "\\text{Statevector} = \n",
       "\\begin{bmatrix}\n",
       "\\tfrac{1}{2} & \\tfrac{1}{2} & 0 & 0 & -\\tfrac{1}{2} & -\\tfrac{1}{2} & 0 & 0  \\\\\n",
       " \\end{bmatrix}\n",
       "$$"
      ],
      "text/plain": [
       "<IPython.core.display.Latex object>"
      ]
     },
     "execution_count": 11,
     "metadata": {},
     "output_type": "execute_result"
    }
   ],
   "source": [
    "from qiskit.visualization import array_to_latex\n",
    "array_to_latex(final_state, prefix=\"\\\\text{Statevector} = \")"
   ]
  },
  {
   "cell_type": "code",
   "execution_count": null,
   "id": "63662454-4941-4fc8-907b-9a74f501fe2d",
   "metadata": {},
   "outputs": [],
   "source": []
  }
 ],
 "metadata": {
  "kernelspec": {
   "display_name": "Qiskit v0.29.0",
   "language": "python",
   "name": "python3"
  },
  "language_info": {
   "codemirror_mode": {
    "name": "ipython",
    "version": 3
   },
   "file_extension": ".py",
   "mimetype": "text/x-python",
   "name": "python",
   "nbconvert_exporter": "python",
   "pygments_lexer": "ipython3",
   "version": "3.8.10"
  },
  "widgets": {
   "application/vnd.jupyter.widget-state+json": {
    "state": {
     "066b706ab052485fab80206f31e5a35a": {
      "model_module": "@jupyter-widgets/base",
      "model_module_version": "1.2.0",
      "model_name": "LayoutModel",
      "state": {
       "margin": "0px 0px 10px 0px"
      }
     },
     "08a6274f92404d9db2db9ae5aeab6c9e": {
      "model_module": "@jupyter-widgets/controls",
      "model_module_version": "1.5.0",
      "model_name": "GridBoxModel",
      "state": {
       "children": [
        "IPY_MODEL_cc81d785d45a4c2c9f7090cfd4506c71"
       ],
       "layout": "IPY_MODEL_6e6e20adc9a84e0fa174a92dd62562b1"
      }
     },
     "0a6ae5c1042340f980575ce5778391cf": {
      "model_module": "@jupyter-widgets/controls",
      "model_module_version": "1.5.0",
      "model_name": "HTMLModel",
      "state": {
       "layout": "IPY_MODEL_4c453d3d079e4bcdad4506fbd670e7b7",
       "style": "IPY_MODEL_1d17d4a741194c9cbd857d5f0968e8d5",
       "value": "<h5>Queue</h5>"
      }
     },
     "0db990ce1384432fbb7875a1d1bdd01f": {
      "model_module": "@jupyter-widgets/base",
      "model_module_version": "1.2.0",
      "model_name": "LayoutModel",
      "state": {
       "width": "95px"
      }
     },
     "1389d980ed21400fa9feb6cb5e363e4c": {
      "model_module": "@jupyter-widgets/base",
      "model_module_version": "1.2.0",
      "model_name": "LayoutModel",
      "state": {}
     },
     "1d17d4a741194c9cbd857d5f0968e8d5": {
      "model_module": "@jupyter-widgets/controls",
      "model_module_version": "1.5.0",
      "model_name": "DescriptionStyleModel",
      "state": {
       "description_width": ""
      }
     },
     "25c6093e4dd44c498605895a97c22722": {
      "model_module": "@jupyter-widgets/controls",
      "model_module_version": "1.5.0",
      "model_name": "HTMLModel",
      "state": {
       "layout": "IPY_MODEL_0db990ce1384432fbb7875a1d1bdd01f",
       "style": "IPY_MODEL_8f7cf150f90f40abb9038a5c1e77119b",
       "value": "<h5>Status</h5>"
      }
     },
     "3478fe187f854dff8d8688253622560d": {
      "model_module": "@jupyter-widgets/controls",
      "model_module_version": "1.5.0",
      "model_name": "HTMLModel",
      "state": {
       "layout": "IPY_MODEL_5206902919214147b5beb3a553786b3c",
       "style": "IPY_MODEL_650df2f58bda4ea29b5c92e55dd3ef88",
       "value": "<h5>Job ID</h5>"
      }
     },
     "4c453d3d079e4bcdad4506fbd670e7b7": {
      "model_module": "@jupyter-widgets/base",
      "model_module_version": "1.2.0",
      "model_name": "LayoutModel",
      "state": {
       "width": "70px"
      }
     },
     "5206902919214147b5beb3a553786b3c": {
      "model_module": "@jupyter-widgets/base",
      "model_module_version": "1.2.0",
      "model_name": "LayoutModel",
      "state": {
       "width": "190px"
      }
     },
     "650df2f58bda4ea29b5c92e55dd3ef88": {
      "model_module": "@jupyter-widgets/controls",
      "model_module_version": "1.5.0",
      "model_name": "DescriptionStyleModel",
      "state": {
       "description_width": ""
      }
     },
     "69aea2fb8cf540698fe3db1664121279": {
      "model_module": "@jupyter-widgets/controls",
      "model_module_version": "1.5.0",
      "model_name": "DescriptionStyleModel",
      "state": {
       "description_width": ""
      }
     },
     "6e6e20adc9a84e0fa174a92dd62562b1": {
      "model_module": "@jupyter-widgets/base",
      "model_module_version": "1.2.0",
      "model_name": "LayoutModel",
      "state": {
       "grid_template_areas": "\n                                       \". . . . right \"\n                                        ",
       "grid_template_columns": "20% 20% 20% 20% 20%",
       "width": "100%"
      }
     },
     "725bfc50eafd4e4488a5a1a907f537fd": {
      "model_module": "@jupyter-widgets/controls",
      "model_module_version": "1.5.0",
      "model_name": "ButtonStyleModel",
      "state": {}
     },
     "730bcc4ab77f43dbada55ce0f0cdd388": {
      "model_module": "@jupyter-widgets/controls",
      "model_module_version": "1.5.0",
      "model_name": "HTMLModel",
      "state": {
       "layout": "IPY_MODEL_1389d980ed21400fa9feb6cb5e363e4c",
       "style": "IPY_MODEL_69aea2fb8cf540698fe3db1664121279",
       "value": "<h5>Message</h5>"
      }
     },
     "8f7cf150f90f40abb9038a5c1e77119b": {
      "model_module": "@jupyter-widgets/controls",
      "model_module_version": "1.5.0",
      "model_name": "DescriptionStyleModel",
      "state": {
       "description_width": ""
      }
     },
     "9e1dd214b4ea4a369bcc08a710897597": {
      "model_module": "@jupyter-widgets/base",
      "model_module_version": "1.2.0",
      "model_name": "LayoutModel",
      "state": {
       "width": "145px"
      }
     },
     "b3ddb06bf02d4753a6cb2d2c5bd2bf7b": {
      "model_module": "@jupyter-widgets/base",
      "model_module_version": "1.2.0",
      "model_name": "LayoutModel",
      "state": {
       "margin": "0px 0px 0px 37px",
       "width": "600px"
      }
     },
     "caae0b3fb26642c4ab7293ebb721bb9e": {
      "model_module": "@jupyter-widgets/base",
      "model_module_version": "1.2.0",
      "model_name": "LayoutModel",
      "state": {
       "grid_area": "right",
       "padding": "0px 0px 0px 0px",
       "width": "70px"
      }
     },
     "cc81d785d45a4c2c9f7090cfd4506c71": {
      "model_module": "@jupyter-widgets/controls",
      "model_module_version": "1.5.0",
      "model_name": "ButtonModel",
      "state": {
       "button_style": "primary",
       "description": "Clear",
       "layout": "IPY_MODEL_caae0b3fb26642c4ab7293ebb721bb9e",
       "style": "IPY_MODEL_725bfc50eafd4e4488a5a1a907f537fd"
      }
     },
     "d703b43c62e24486920e0892a5891482": {
      "model_module": "@jupyter-widgets/controls",
      "model_module_version": "1.5.0",
      "model_name": "HTMLModel",
      "state": {
       "layout": "IPY_MODEL_066b706ab052485fab80206f31e5a35a",
       "style": "IPY_MODEL_da2a0aa832a6410c9ab387fd1b7e743d",
       "value": "<p style='font-family: IBM Plex Sans, Arial, Helvetica, sans-serif; font-size: 20px; font-weight: medium;'>Circuit Properties</p>"
      }
     },
     "da2a0aa832a6410c9ab387fd1b7e743d": {
      "model_module": "@jupyter-widgets/controls",
      "model_module_version": "1.5.0",
      "model_name": "DescriptionStyleModel",
      "state": {
       "description_width": ""
      }
     },
     "e663d4cd33fc4d45861405287bacc550": {
      "model_module": "@jupyter-widgets/controls",
      "model_module_version": "1.5.0",
      "model_name": "DescriptionStyleModel",
      "state": {
       "description_width": ""
      }
     },
     "e894dfb050914d60a43f107a5fd28344": {
      "model_module": "@jupyter-widgets/controls",
      "model_module_version": "1.5.0",
      "model_name": "HBoxModel",
      "state": {
       "children": [
        "IPY_MODEL_3478fe187f854dff8d8688253622560d",
        "IPY_MODEL_f5928fad8a804ca193016de7d0e74b90",
        "IPY_MODEL_25c6093e4dd44c498605895a97c22722",
        "IPY_MODEL_0a6ae5c1042340f980575ce5778391cf",
        "IPY_MODEL_730bcc4ab77f43dbada55ce0f0cdd388"
       ],
       "layout": "IPY_MODEL_b3ddb06bf02d4753a6cb2d2c5bd2bf7b"
      }
     },
     "f5928fad8a804ca193016de7d0e74b90": {
      "model_module": "@jupyter-widgets/controls",
      "model_module_version": "1.5.0",
      "model_name": "HTMLModel",
      "state": {
       "layout": "IPY_MODEL_9e1dd214b4ea4a369bcc08a710897597",
       "style": "IPY_MODEL_e663d4cd33fc4d45861405287bacc550",
       "value": "<h5>Backend</h5>"
      }
     }
    },
    "version_major": 2,
    "version_minor": 0
   }
  }
 },
 "nbformat": 4,
 "nbformat_minor": 5
}
